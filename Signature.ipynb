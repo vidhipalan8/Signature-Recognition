{
  "nbformat": 4,
  "nbformat_minor": 0,
  "metadata": {
    "colab": {
      "name": "Signature.ipynb",
      "version": "0.3.2",
      "provenance": [],
      "collapsed_sections": []
    },
    "kernelspec": {
      "name": "python3",
      "display_name": "Python 3"
    }
  },
  "cells": [
    {
      "cell_type": "code",
      "metadata": {
        "id": "HKOnIpaQELSt",
        "colab_type": "code",
        "colab": {}
      },
      "source": [
        "#import all libraries\n",
        "  from keras.models import Sequential\n",
        "  from keras.layers import Convolution2D\n",
        "  from keras.layers import MaxPooling2D\n",
        "  from keras.layers import Flatten\n",
        "  from keras.layers import Dense\n",
        "  "
      ],
      "execution_count": 0,
      "outputs": []
    },
    {
      "cell_type": "code",
      "metadata": {
        "id": "EGDkatEfEMBt",
        "colab_type": "code",
        "outputId": "734d5d82-8c44-43f8-a34c-8087f72aeb16",
        "colab": {
          "base_uri": "https://localhost:8080/",
          "height": 104
        }
      },
      "source": [
        "#My Model\n",
        "\n",
        "\n",
        "#initializing a CNN\n",
        "classifier = Sequential()\n",
        "#Convolution\n",
        "classifier.add(Convolution2D(32,3,3, input_shape = (28, 28, 3), activation = 'relu' ))\n",
        "\n",
        "#Pooling\n",
        "classifier.add(MaxPooling2D(pool_size = (2,2)))\n",
        "#Convolution\n",
        "classifier.add(Convolution2D(32,3,3, input_shape = (28, 28, 3), activation = 'relu' ))\n",
        "\n",
        "#Pooling\n",
        "classifier.add(MaxPooling2D(pool_size = (2,2)))\n",
        "\n",
        "\n",
        "#Flattening\n",
        "classifier.add(Flatten())\n",
        "#Full Connection\n",
        "classifier.add(Dense(units = 128, activation = 'relu'))\n",
        "\n",
        "classifier.add(Dense(units = 1, activation = 'sigmoid'))\n",
        "\n",
        "#Compiling CNN\n",
        "classifier.compile(optimizer = 'adam',loss = 'binary_crossentropy', metrics=['accuracy'])"
      ],
      "execution_count": 0,
      "outputs": [
        {
          "output_type": "stream",
          "text": [
            "/usr/local/lib/python3.6/dist-packages/ipykernel_launcher.py:3: UserWarning: Update your `Conv2D` call to the Keras 2 API: `Conv2D(32, (3, 3), input_shape=(28, 28, 3..., activation=\"relu\")`\n",
            "  This is separate from the ipykernel package so we can avoid doing imports until\n",
            "/usr/local/lib/python3.6/dist-packages/ipykernel_launcher.py:8: UserWarning: Update your `Conv2D` call to the Keras 2 API: `Conv2D(32, (3, 3), input_shape=(28, 28, 3..., activation=\"relu\")`\n",
            "  \n"
          ],
          "name": "stderr"
        }
      ]
    },
    {
      "cell_type": "code",
      "metadata": {
        "id": "pb_PKCEKERrz",
        "colab_type": "code",
        "outputId": "e5eb98e3-9b30-496a-96e9-bb3227ef776b",
        "colab": {
          "base_uri": "https://localhost:8080/",
          "height": 33
        }
      },
      "source": [
        "import os\n",
        "from google.colab import drive\n",
        "drive.mount('/content/drive')"
      ],
      "execution_count": 0,
      "outputs": [
        {
          "output_type": "stream",
          "text": [
            "Drive already mounted at /content/drive; to attempt to forcibly remount, call drive.mount(\"/content/drive\", force_remount=True).\n"
          ],
          "name": "stdout"
        }
      ]
    },
    {
      "cell_type": "code",
      "metadata": {
        "id": "0k_r5c4jEUcK",
        "colab_type": "code",
        "outputId": "f793c44c-ef52-4155-aa0d-1fc52115f4dd",
        "colab": {
          "base_uri": "https://localhost:8080/",
          "height": 50
        }
      },
      "source": [
        "from keras.preprocessing.image import ImageDataGenerator\n",
        "train_datagen= ImageDataGenerator(\n",
        "    rescale=1./255,\n",
        "    shear_range=0.2,\n",
        "    zoom_range=0.2,\n",
        "    horizontal_flip=True)\n",
        "test_datagen= ImageDataGenerator(rescale=1./255)\n",
        "training_set= train_datagen.flow_from_directory(\n",
        "    '/content/drive/My Drive/train/',\n",
        "    target_size=(28,28),\n",
        "    batch_size=64,\n",
        "    class_mode='binary')\n",
        "test_set= test_datagen.flow_from_directory(\n",
        "    '/content/drive/My Drive/test/',\n",
        "    target_size=(28,28),\n",
        "    batch_size=64,\n",
        "    class_mode='binary')"
      ],
      "execution_count": 0,
      "outputs": [
        {
          "output_type": "stream",
          "text": [
            "Found 49 images belonging to 11 classes.\n",
            "Found 0 images belonging to 0 classes.\n"
          ],
          "name": "stdout"
        }
      ]
    },
    {
      "cell_type": "code",
      "metadata": {
        "id": "xo7Dcq3nEe-B",
        "colab_type": "code",
        "outputId": "eb31a80c-7e5e-452a-d503-8135d917e695",
        "colab": {
          "base_uri": "https://localhost:8080/",
          "height": 686
        }
      },
      "source": [
        "history = classifier.fit_generator(\n",
        "      training_set,\n",
        "      steps_per_epoch=100,  # 2000 images = batch_size * steps\n",
        "      epochs=20,\n",
        "      validation_data=test_set,\n",
        "      validation_steps=50,  # 1000 images = batch_size * steps\n",
        "      verbose=2)\n"
      ],
      "execution_count": 0,
      "outputs": [
        {
          "output_type": "stream",
          "text": [
            "Epoch 1/20\n",
            " - 13s - loss: -5.3949e+01 - acc: 0.1024\n",
            "Epoch 2/20\n",
            " - 12s - loss: -5.7913e+01 - acc: 0.1020\n",
            "Epoch 3/20\n",
            " - 12s - loss: -5.7913e+01 - acc: 0.1020\n",
            "Epoch 4/20\n",
            " - 12s - loss: -5.7913e+01 - acc: 0.1020\n",
            "Epoch 5/20\n",
            " - 12s - loss: -5.7913e+01 - acc: 0.1020\n",
            "Epoch 6/20\n",
            " - 12s - loss: -5.7913e+01 - acc: 0.1020\n",
            "Epoch 7/20\n",
            " - 12s - loss: -5.7913e+01 - acc: 0.1020\n",
            "Epoch 8/20\n",
            " - 12s - loss: -5.7913e+01 - acc: 0.1020\n",
            "Epoch 9/20\n",
            " - 12s - loss: -5.7913e+01 - acc: 0.1020\n",
            "Epoch 10/20\n",
            " - 12s - loss: -5.7913e+01 - acc: 0.1020\n",
            "Epoch 11/20\n",
            " - 12s - loss: -5.7913e+01 - acc: 0.1020\n",
            "Epoch 12/20\n",
            " - 12s - loss: -5.7913e+01 - acc: 0.1020\n",
            "Epoch 13/20\n",
            " - 12s - loss: -5.7913e+01 - acc: 0.1020\n",
            "Epoch 14/20\n",
            " - 12s - loss: -5.7913e+01 - acc: 0.1020\n",
            "Epoch 15/20\n",
            " - 12s - loss: -5.7913e+01 - acc: 0.1020\n",
            "Epoch 16/20\n",
            " - 12s - loss: -5.7913e+01 - acc: 0.1020\n",
            "Epoch 17/20\n",
            " - 12s - loss: -5.7913e+01 - acc: 0.1020\n",
            "Epoch 18/20\n",
            " - 12s - loss: -5.7913e+01 - acc: 0.1020\n",
            "Epoch 19/20\n",
            " - 12s - loss: -5.7913e+01 - acc: 0.1020\n",
            "Epoch 20/20\n",
            " - 12s - loss: -5.7913e+01 - acc: 0.1020\n"
          ],
          "name": "stdout"
        }
      ]
    },
    {
      "cell_type": "code",
      "metadata": {
        "id": "KQVe0wD6EhaY",
        "colab_type": "code",
        "outputId": "d32b7d43-8a99-4501-d29e-183f38e1f557",
        "colab": {
          "base_uri": "https://localhost:8080/",
          "height": 561
        }
      },
      "source": [
        "import matplotlib.pyplot as plt\n",
        "import matplotlib.image as mpimg\n",
        "acc = history.history['acc']\n",
        "\n",
        "\n",
        "# Retrieve a list of list results on training and test data\n",
        "# sets for each training epoch\n",
        "loss = history.history['loss']\n",
        "# Get number of epochs\n",
        "epochs = range(len(acc))\n",
        "\n",
        "# Plot training and validation accuracy per epoch\n",
        "plt.plot(epochs, acc)\n",
        "plt.title('Training and validation accuracy')\n",
        "\n",
        "plt.figure()\n",
        "\n",
        "# Plot training and validation loss per epoch\n",
        "plt.plot(epochs, loss)\n",
        "plt.title('Training and validation loss')"
      ],
      "execution_count": 0,
      "outputs": [
        {
          "output_type": "execute_result",
          "data": {
            "text/plain": [
              "Text(0.5, 1.0, 'Training and validation loss')"
            ]
          },
          "metadata": {
            "tags": []
          },
          "execution_count": 19
        },
        {
          "output_type": "display_data",
          "data": {
            "image/png": "[encoded data removed]",
            "text/plain": [
              "<Figure size 432x288 with 1 Axes>"
            ]
          },
          "metadata": {
            "tags": []
          }
        },
        {
          "output_type": "display_data",
          "data": {
            "image/png": "[encoded data removed]",
            "text/plain": [
              "<Figure size 432x288 with 1 Axes>"
            ]
          },
          "metadata": {
            "tags": []
          }
        }
      ]
    },
    {
      "cell_type": "code",
      "metadata": {
        "id": "hXtGmpmeEq2K",
        "colab_type": "code",
        "outputId": "896651bb-2011-4f32-b83b-3e7bef694947",
        "colab": {
          "base_uri": "https://localhost:8080/",
          "height": 201
        }
      },
      "source": [
        "#making a new prediction\n",
        "import numpy as np\n",
        "from keras.preprocessing.image import image\n",
        "\n",
        "test_image = image.load_img(path = '/content/drive/My Drive/test/001.png', target_size=(28,28)) \n",
        "test_image = image.img_to_array(test_image)\n",
        "test_image = np.expand_dims(test_image, axis = 0)\n",
        "result = classifier.predict(test_image)\n",
        "training_set.class_indices"
      ],
      "execution_count": 0,
      "outputs": [
        {
          "output_type": "execute_result",
          "data": {
            "text/plain": [
              "{'A': 0,\n",
              " 'B': 1,\n",
              " 'C': 2,\n",
              " 'D': 3,\n",
              " 'F': 4,\n",
              " 'G': 5,\n",
              " 'H': 6,\n",
              " 'T': 7,\n",
              " 'U': 8,\n",
              " 'Y': 9,\n",
              " 'Z': 10}"
            ]
          },
          "metadata": {
            "tags": []
          },
          "execution_count": 20
        }
      ]
    },
    {
      "cell_type": "code",
      "metadata": {
        "id": "xTIjlCnKEt_w",
        "colab_type": "code",
        "outputId": "40a66f98-746f-466b-9421-d8375563dd17",
        "colab": {
          "base_uri": "https://localhost:8080/",
          "height": 33
        }
      },
      "source": [
        "if result[0][0]==0:\n",
        "  print(\"A\")\n",
        "elif result[0][0]==1:\n",
        "  print(\"B\")\n",
        "elif result[0][0]==2:\n",
        "  print(\"C\")\n",
        "elif result[0][0]==3:\n",
        "  print(\"D\")\n",
        "elif result[0][0]==4:\n",
        "  print(\"E\")\n",
        "elif result[0][0]==5:\n",
        "  print(\"F\")\n",
        "elif result[0][0]==6:\n",
        "  print(\"G\")\n",
        "elif result[0][0]==7:\n",
        "  print(\"H\")\n",
        "elif result[0][0]==8:\n",
        "  print(\"T\")\n",
        "elif result[0][0]==9:\n",
        "  print(\"U\")\n",
        "elif result[0][0]==10:\n",
        "  print(\"Y\")\n",
        "elif result[0][0]==11:\n",
        "  print(\"Z\")\n",
        "\n"
      ],
      "execution_count": 0,
      "outputs": [
        {
          "output_type": "stream",
          "text": [
            "B\n"
          ],
          "name": "stdout"
        }
      ]
    },
    {
      "cell_type": "code",
      "metadata": {
        "id": "U_lATXLVJkoi",
        "colab_type": "code",
        "colab": {}
      },
      "source": [
        ""
      ],
      "execution_count": 0,
      "outputs": []
    }
  ]
}